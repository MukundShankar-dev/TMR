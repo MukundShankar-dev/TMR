{
 "cells": [
  {
   "cell_type": "code",
   "execution_count": 1,
   "metadata": {},
   "outputs": [
    {
     "name": "stdout",
     "output_type": "stream",
     "text": [
      "[Errno 2] No such file or directory: 'TMR'\n",
      "/vulcanscratch/mukunds/downloads/TMR\n"
     ]
    }
   ],
   "source": [
    "cd TMR"
   ]
  },
  {
   "cell_type": "code",
   "execution_count": 2,
   "metadata": {},
   "outputs": [
    {
     "name": "stdout",
     "output_type": "stream",
     "text": [
      "/vulcanscratch/mukunds/downloads/TMR\n"
     ]
    }
   ],
   "source": [
    "!pwd"
   ]
  },
  {
   "cell_type": "code",
   "execution_count": 3,
   "metadata": {},
   "outputs": [],
   "source": [
    "from src.renderer.matplotlib import render_animation\n",
    "import numpy as np\n",
    "from src.guofeats import guofeats_to_joints\n",
    "from src.guofeats import joints_to_guofeats\n",
    "import torch\n",
    "from tqdm import tqdm\n",
    "from tqdm import trange\n",
    "import pickle\n",
    "import joblib"
   ]
  },
  {
   "cell_type": "code",
   "execution_count": 5,
   "metadata": {},
   "outputs": [],
   "source": [
    "# new_smpl_data = joblib.load('new_smpl_files/subset_smpl_param/M001P001A001R002.pkl')\n",
    "old_smpl_data = np.load('datasets/motions/pose_data/ACCAD/Female1General_c3d/A1 - Stand_poses.npy')\n",
    "# curr_data = np.load('../converted_files/old_file.npy', allow_pickle=True)\n",
    "curr_data = np.load('../testfile/M001P001A001R001_smpl.npy', allow_pickle=True)\n",
    "\n",
    "# motion_paths = [\n",
    "#     '../converted_files/M001P001A001R001_smplh.npy',\n",
    "#     '../converted_files/M001P001A001R002_smplh.npy',\n",
    "#     '../converted_files/M001P001A001R003_smplh.npy',\n",
    "#     '../converted_files/M001P001A002R001_smplh.npy',\n",
    "#     '../converted_files/M001P001A002R002_smplh.npy',\n",
    "#     '../converted_files/M001P001A002R003_smplh.npy',\n",
    "#     '../converted_files/M001P001A003R001_smplh.npy',\n",
    "#     '../converted_files/M001P001A003R002_smplh.npy',\n",
    "#     '../converted_files/M001P001A003R003_smplh.npy',\n",
    "#     '../converted_files/M001P001A004R001_smplh.npy'\n",
    "# ]\n",
    "motion_paths = ['../flag_subset_pose_data/M001P001A001R001.npy', '../flag_subset_pose_data/M002P001A001R001.npy', '../flag_subset_pose_data/M001P002A001R001.npy']\n",
    "data_files = [np.load(path, allow_pickle=True) for path in motion_paths]"
   ]
  },
  {
   "cell_type": "code",
   "execution_count": 5,
   "metadata": {},
   "outputs": [
    {
     "ename": "IndexError",
     "evalue": "list index out of range",
     "output_type": "error",
     "traceback": [
      "\u001b[0;31m---------------------------------------------------------------------------\u001b[0m",
      "\u001b[0;31mIndexError\u001b[0m                                Traceback (most recent call last)",
      "Cell \u001b[0;32mIn[5], line 1\u001b[0m\n\u001b[0;32m----> 1\u001b[0m \u001b[38;5;28mprint\u001b[39m(data_files[\u001b[38;5;241m0\u001b[39m] \u001b[38;5;241m==\u001b[39m \u001b[43mdata_files\u001b[49m\u001b[43m[\u001b[49m\u001b[38;5;241;43m1\u001b[39;49m\u001b[43m]\u001b[49m)\n",
      "\u001b[0;31mIndexError\u001b[0m: list index out of range"
     ]
    }
   ],
   "source": [
    "print(data_files[0] == data_files[1])"
   ]
  },
  {
   "cell_type": "code",
   "execution_count": 6,
   "metadata": {},
   "outputs": [
    {
     "data": {
      "text/plain": [
       "(60, 52, 3)"
      ]
     },
     "execution_count": 6,
     "metadata": {},
     "output_type": "execute_result"
    }
   ],
   "source": [
    "old_smpl_data.shape"
   ]
  },
  {
   "cell_type": "code",
   "execution_count": 7,
   "metadata": {},
   "outputs": [
    {
     "name": "stdout",
     "output_type": "stream",
     "text": [
      "(349, 24, 3)\n"
     ]
    }
   ],
   "source": [
    "for motion in data_files:\n",
    "    print(motion.shape)"
   ]
  },
  {
   "cell_type": "code",
   "execution_count": 6,
   "metadata": {},
   "outputs": [
    {
     "name": "stdout",
     "output_type": "stream",
     "text": [
      "(349, 24, 3)\n"
     ]
    }
   ],
   "source": [
    "def drop_nan_and_retain_shape(curr_data):\n",
    "    # Iterate over the first dimension\n",
    "    for i in range(curr_data.shape[0]):\n",
    "        # Get the slice\n",
    "        slice_data = curr_data[i]\n",
    "        \n",
    "        # Check for NaN values and replace them\n",
    "        if np.isnan(slice_data).any():\n",
    "            # Option 1: Replace NaNs with zero\n",
    "            slice_data = np.nan_to_num(slice_data)\n",
    "            \n",
    "            # Option 2: Replace NaNs with the mean of non-NaN values\n",
    "            # mean_values = np.nanmean(slice_data, axis=0)\n",
    "            # inds = np.where(np.isnan(slice_data))\n",
    "            # slice_data[inds] = np.take(mean_values, inds[1])\n",
    "        \n",
    "        # Assign the cleaned slice back to curr_data\n",
    "        curr_data[i] = slice_data\n",
    "    \n",
    "    return curr_data\n",
    "\n",
    "cleaned_data = drop_nan_and_retain_shape(curr_data)\n",
    "print(cleaned_data.shape)"
   ]
  },
  {
   "cell_type": "code",
   "execution_count": 7,
   "metadata": {},
   "outputs": [],
   "source": [
    "for i in range(len(data_files)):\n",
    "    file = data_files[i]\n",
    "    cleaned_data = drop_nan_and_retain_shape(file)\n",
    "    data_files[i] = cleaned_data\n"
   ]
  },
  {
   "cell_type": "code",
   "execution_count": 8,
   "metadata": {},
   "outputs": [
    {
     "name": "stdout",
     "output_type": "stream",
     "text": [
      "Motion 0 rendered successfully\n",
      "Motion 1 rendered successfully\n",
      "Motion 2 rendered successfully\n"
     ]
    }
   ],
   "source": [
    "for i in range(len(data_files)):\n",
    "    curr_data = data_files[i]\n",
    "    new_anim = render_animation(curr_data, jointstype=\"guoh3djoints\", output=f\"renderings/test_rendering{i}.gif\")\n",
    "    print(f\"Motion {i} rendered successfully\")"
   ]
  },
  {
   "cell_type": "code",
   "execution_count": null,
   "metadata": {},
   "outputs": [],
   "source": []
  }
 ],
 "metadata": {
  "kernelspec": {
   "display_name": "tmr",
   "language": "python",
   "name": "tmr"
  },
  "language_info": {
   "codemirror_mode": {
    "name": "ipython",
    "version": 3
   },
   "file_extension": ".py",
   "mimetype": "text/x-python",
   "name": "python",
   "nbconvert_exporter": "python",
   "pygments_lexer": "ipython3",
   "version": "3.10.12"
  }
 },
 "nbformat": 4,
 "nbformat_minor": 2
}
