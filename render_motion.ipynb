{
 "cells": [
  {
   "cell_type": "code",
   "execution_count": 1,
   "metadata": {},
   "outputs": [
    {
     "name": "stdout",
     "output_type": "stream",
     "text": [
      "/vulcanscratch/mukunds/downloads/TMR\n"
     ]
    }
   ],
   "source": [
    "!pwd"
   ]
  },
  {
   "cell_type": "code",
   "execution_count": 1,
   "metadata": {},
   "outputs": [
    {
     "name": "stdout",
     "output_type": "stream",
     "text": [
      "/vulcanscratch/mukunds/downloads/TMR\n"
     ]
    }
   ],
   "source": [
    "!pwd"
   ]
  },
  {
   "cell_type": "code",
   "execution_count": 2,
   "metadata": {},
   "outputs": [],
   "source": [
    "from src.renderer.matplotlib import render_animation\n",
    "import numpy as np\n",
    "from src.guofeats import guofeats_to_joints\n",
    "from src.guofeats import joints_to_guofeats\n",
    "import torch\n",
    "from tqdm import tqdm\n",
    "from tqdm import trange\n",
    "import pickle\n",
    "import joblib"
   ]
  },
  {
   "cell_type": "code",
   "execution_count": 3,
   "metadata": {},
   "outputs": [],
   "source": [
    "# new_smpl_data = joblib.load('new_smpl_files/subset_smpl_param/M001P001A001R002.pkl')\n",
    "# old_smpl_data = np.load('datasets/motions/pose_data/ACCAD/Female1General_c3d/A1 - Stand_poses.npy')\n",
    "# curr_data = np.load('../converted_files/old_file.npy', allow_pickle=True)\n",
    "# curr_data = np.load('../testfile/M001P001A001R001_smpl.npy', allow_pickle=True)\n",
    "\n",
    "# motion_paths = [\n",
    "#     '../converted_files/M001P001A001R001_smplh.npy',\n",
    "#     '../converted_files/M001P001A001R002_smplh.npy',\n",
    "#     '../converted_files/M001P001A001R003_smplh.npy',\n",
    "#     '../converted_files/M001P001A002R001_smplh.npy',\n",
    "#     '../converted_files/M001P001A002R002_smplh.npy',\n",
    "#     '../converted_files/M001P001A002R003_smplh.npy',\n",
    "#     '../converted_files/M001P001A003R001_smplh.npy',\n",
    "#     '../converted_files/M001P001A003R002_smplh.npy',\n",
    "#     '../converted_files/M001P001A003R003_smplh.npy',\n",
    "#     '../converted_files/M001P001A004R001_smplh.npy'\n",
    "# ]\n",
    "# motion_paths = ['../flag_subset_pose_data/M001P001A001R001.npy', '../flag_subset_pose_data/M002P001A001R001.npy', '../flag_subset_pose_data/M001P002A001R001.npy']\n",
    "# motion_paths = ['datasets/motions/flag_subset_pose_data/M001P001A001R001.npy', 'datasets/motions/flag_subset_pose_data/M002P002A001R001.npy']\n",
    "# motion_paths = ['../converted_files/wham_0.npy', '../converted_files/wham_1.npy', '../converted_files/wham_2.npy']\n",
    "motion_paths = ['../converted_files/wham_sample_0.npy']\n",
    "data_files = [np.load(path, allow_pickle=True) for path in motion_paths]"
   ]
  },
  {
   "cell_type": "code",
   "execution_count": 4,
   "metadata": {},
   "outputs": [],
   "source": [
    "# data_files[2].shape"
   ]
  },
  {
   "cell_type": "code",
   "execution_count": 5,
   "metadata": {},
   "outputs": [],
   "source": [
    "# data_files[0][0].shape"
   ]
  },
  {
   "cell_type": "code",
   "execution_count": 6,
   "metadata": {},
   "outputs": [],
   "source": [
    "for i in range(len(data_files)):\n",
    "    data_files[i][:,:,2] *= -1\n",
    "# data_files[0][:,:,2] *= -1"
   ]
  },
  {
   "cell_type": "code",
   "execution_count": 7,
   "metadata": {},
   "outputs": [
    {
     "name": "stdout",
     "output_type": "stream",
     "text": [
      "Motion 0 rendered successfully\n"
     ]
    }
   ],
   "source": [
    "for i in range(len(data_files)):\n",
    "    curr_data = data_files[i]\n",
    "    new_anim = render_animation(curr_data, jointstype=\"guoh3djoints\", output=f\"renderings/wham_sample_{i}.gif\")\n",
    "    print(f\"Motion {i} rendered successfully\")"
   ]
  },
  {
   "cell_type": "code",
   "execution_count": null,
   "metadata": {},
   "outputs": [],
   "source": []
  }
 ],
 "metadata": {
  "kernelspec": {
   "display_name": "tmr",
   "language": "python",
   "name": "tmr"
  },
  "language_info": {
   "codemirror_mode": {
    "name": "ipython",
    "version": 3
   },
   "file_extension": ".py",
   "mimetype": "text/x-python",
   "name": "python",
   "nbconvert_exporter": "python",
   "pygments_lexer": "ipython3",
   "version": "3.10.12"
  }
 },
 "nbformat": 4,
 "nbformat_minor": 2
}
